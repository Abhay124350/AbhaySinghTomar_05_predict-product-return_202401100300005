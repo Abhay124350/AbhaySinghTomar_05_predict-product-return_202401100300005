{
  "nbformat": 4,
  "nbformat_minor": 0,
  "metadata": {
    "colab": {
      "provenance": []
    },
    "kernelspec": {
      "name": "python3",
      "display_name": "Python 3"
    },
    "language_info": {
      "name": "python"
    }
  },
  "cells": [
    {
      "cell_type": "code",
      "execution_count": 2,
      "metadata": {
        "colab": {
          "base_uri": "https://localhost:8080/",
          "height": 990
        },
        "id": "K6z2ydGpz_CS",
        "outputId": "29adf84c-26e3-4709-b13a-c88339ac01df"
      },
      "outputs": [
        {
          "output_type": "stream",
          "name": "stdout",
          "text": [
            "Shape of dataset: (100, 4)\n",
            "   purchase_amount  review_score  days_to_delivery returned\n",
            "0       687.011818      3.778615                 4       no\n",
            "1       325.972093      2.458683                 1      yes\n",
            "2       685.382724      3.954024                 7       no\n",
            "3       291.100577      3.666468                14      yes\n",
            "4       209.806672      1.478248                 2       no\n",
            "\n",
            "Missing values:\n",
            " purchase_amount     0\n",
            "review_score        0\n",
            "days_to_delivery    0\n",
            "returned            0\n",
            "dtype: int64\n",
            "\n",
            "Accuracy Score: 0.55\n",
            "\n",
            "Classification Report:\n",
            "               precision    recall  f1-score   support\n",
            "\n",
            "           0       0.50      0.33      0.40         9\n",
            "           1       0.57      0.73      0.64        11\n",
            "\n",
            "    accuracy                           0.55        20\n",
            "   macro avg       0.54      0.53      0.52        20\n",
            "weighted avg       0.54      0.55      0.53        20\n",
            "\n",
            "\n",
            "Confusion Matrix:\n",
            " [[3 6]\n",
            " [3 8]]\n"
          ]
        },
        {
          "output_type": "display_data",
          "data": {
            "text/plain": [
              "<Figure size 640x480 with 1 Axes>"
            ],
            "image/png": "[encoded data removed]"
          },
          "metadata": {}
        }
      ],
      "source": [
        "# Product Return Prediction\n",
        "# Author: Abhay Singh Tomar\n",
        "# Roll No: 2428cseai1639\n",
        "# ----------------------------------------------\n",
        "\n",
        "# 1. Importing required libraries\n",
        "import pandas as pd\n",
        "import numpy as np\n",
        "import matplotlib.pyplot as plt\n",
        "import seaborn as sns\n",
        "\n",
        "from sklearn.model_selection import train_test_split\n",
        "from sklearn.preprocessing import LabelEncoder, StandardScaler\n",
        "from sklearn.ensemble import RandomForestClassifier\n",
        "from sklearn.metrics import classification_report, confusion_matrix, accuracy_score\n",
        "\n",
        "# 2. Load the dataset\n",
        "df = pd.read_csv('/content/product_return.csv')  # Adjust path if not running on Colab\n",
        "\n",
        "# 3. Data Overview\n",
        "print(\"Shape of dataset:\", df.shape)\n",
        "print(df.head())\n",
        "\n",
        "# 4. Check for null values\n",
        "print(\"\\nMissing values:\\n\", df.isnull().sum())\n",
        "\n",
        "# 5. Basic Data Preprocessing\n",
        "# Fill or drop missing values\n",
        "df = df.dropna()\n",
        "\n",
        "# Encode categorical columns\n",
        "label_encoders = {}\n",
        "for col in df.select_dtypes(include='object').columns:\n",
        "    le = LabelEncoder()\n",
        "    df[col] = le.fit_transform(df[col])\n",
        "    label_encoders[col] = le\n",
        "\n",
        "# 6. Feature and target separation\n",
        "X = df.drop('returned', axis=1)\n",
        "y = df['returned']\n",
        "\n",
        "\n",
        "# 7. Train-Test Split\n",
        "X_train, X_test, y_train, y_test = train_test_split(X, y, test_size=0.2, random_state=42)\n",
        "\n",
        "# 8. Feature Scaling\n",
        "scaler = StandardScaler()\n",
        "X_train = scaler.fit_transform(X_train)\n",
        "X_test = scaler.transform(X_test)\n",
        "\n",
        "# 9. Model Training\n",
        "model = RandomForestClassifier(n_estimators=100, random_state=42)\n",
        "model.fit(X_train, y_train)\n",
        "\n",
        "# 10. Predictions\n",
        "y_pred = model.predict(X_test)\n",
        "\n",
        "# 11. Evaluation\n",
        "print(\"\\nAccuracy Score:\", accuracy_score(y_test, y_pred))\n",
        "print(\"\\nClassification Report:\\n\", classification_report(y_test, y_pred))\n",
        "print(\"\\nConfusion Matrix:\\n\", confusion_matrix(y_test, y_pred))\n",
        "\n",
        "# 12. Feature Importance\n",
        "feature_importance = pd.Series(model.feature_importances_, index=X.columns)\n",
        "feature_importance.nlargest(10).plot(kind='barh')\n",
        "plt.title('Top 10 Important Features')\n",
        "plt.show()\n"
      ]
    }
  ]
}